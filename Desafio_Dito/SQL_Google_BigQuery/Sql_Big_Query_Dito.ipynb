{
 "cells": [
  {
   "cell_type": "markdown",
   "metadata": {},
   "source": [
    "# SQL BigQuery\n",
    "\n",
    "O desafio aqui será responder duas perguntas a partir do Dataset fornecido e usando apenas SQL.\n"
   ]
  },
  {
   "cell_type": "code",
   "execution_count": 1,
   "metadata": {},
   "outputs": [],
   "source": [
    "%load_ext google.cloud.bigquery"
   ]
  },
  {
   "cell_type": "markdown",
   "metadata": {},
   "source": [
    "Para testar o uso da API e das credenciais do Google, executo a query já existente no desafio, que lista \n",
    "os 5 produtos que mais geraram receita. Com a consulta retornando \"ok\", agora passaremos as duas questões do desafio."
   ]
  },
  {
   "cell_type": "code",
   "execution_count": 3,
   "metadata": {},
   "outputs": [
    {
     "data": {
      "text/html": [
       "<div>\n",
       "<style scoped>\n",
       "    .dataframe tbody tr th:only-of-type {\n",
       "        vertical-align: middle;\n",
       "    }\n",
       "\n",
       "    .dataframe tbody tr th {\n",
       "        vertical-align: top;\n",
       "    }\n",
       "\n",
       "    .dataframe thead th {\n",
       "        text-align: right;\n",
       "    }\n",
       "</style>\n",
       "<table border=\"1\" class=\"dataframe\">\n",
       "  <thead>\n",
       "    <tr style=\"text-align: right;\">\n",
       "      <th></th>\n",
       "      <th>product</th>\n",
       "      <th>revenue</th>\n",
       "    </tr>\n",
       "  </thead>\n",
       "  <tbody>\n",
       "    <tr>\n",
       "      <th>0</th>\n",
       "      <td>Schneider Aventinus</td>\n",
       "      <td>52878.34</td>\n",
       "    </tr>\n",
       "    <tr>\n",
       "      <th>1</th>\n",
       "      <td>Racer 5 India Pale Ale, Bear Republic Bre</td>\n",
       "      <td>52034.75</td>\n",
       "    </tr>\n",
       "    <tr>\n",
       "      <th>2</th>\n",
       "      <td>Old Rasputin Russian Imperial Stout</td>\n",
       "      <td>51862.79</td>\n",
       "    </tr>\n",
       "    <tr>\n",
       "      <th>3</th>\n",
       "      <td>Trappistes Rochefort 10</td>\n",
       "      <td>51216.23</td>\n",
       "    </tr>\n",
       "    <tr>\n",
       "      <th>4</th>\n",
       "      <td>Stone IPA</td>\n",
       "      <td>50754.15</td>\n",
       "    </tr>\n",
       "  </tbody>\n",
       "</table>\n",
       "</div>"
      ],
      "text/plain": [
       "                                     product   revenue\n",
       "0                        Schneider Aventinus  52878.34\n",
       "1  Racer 5 India Pale Ale, Bear Republic Bre  52034.75\n",
       "2        Old Rasputin Russian Imperial Stout  51862.79\n",
       "3                    Trappistes Rochefort 10  51216.23\n",
       "4                                  Stone IPA  50754.15"
      ]
     },
     "execution_count": 3,
     "metadata": {},
     "output_type": "execute_result"
    }
   ],
   "source": [
    "%%bigquery\n",
    "\n",
    "SELECT\n",
    " properties.product,\n",
    " \n",
    "SUM(properties.revenue) revenue\n",
    "FROM `dito-data-scientist-challenge.tracking.dito`\n",
    "WHERE type = 'track'\n",
    "GROUP BY properties.product\n",
    "ORDER BY revenue DESC\n",
    "LIMIT 5"
   ]
  },
  {
   "cell_type": "markdown",
   "metadata": {},
   "source": [
    "### 1. Qual o nome, email e telefone das 5 pessoas que mais geraram receita?\n",
    "\n",
    "Para esse exercício, primeiro busquei pelos id's das pessoas que mais geraram receita, salvando os resultados dos id's em um dataframe."
   ]
  },
  {
   "cell_type": "code",
   "execution_count": 4,
   "metadata": {},
   "outputs": [
    {
     "data": {
      "text/html": [
       "<div>\n",
       "<style scoped>\n",
       "    .dataframe tbody tr th:only-of-type {\n",
       "        vertical-align: middle;\n",
       "    }\n",
       "\n",
       "    .dataframe tbody tr th {\n",
       "        vertical-align: top;\n",
       "    }\n",
       "\n",
       "    .dataframe thead th {\n",
       "        text-align: right;\n",
       "    }\n",
       "</style>\n",
       "<table border=\"1\" class=\"dataframe\">\n",
       "  <thead>\n",
       "    <tr style=\"text-align: right;\">\n",
       "      <th></th>\n",
       "      <th>id</th>\n",
       "      <th>revenue</th>\n",
       "    </tr>\n",
       "  </thead>\n",
       "  <tbody>\n",
       "    <tr>\n",
       "      <th>0</th>\n",
       "      <td>f56861d3-a2b5-4ab0-b0ef-6ce2005f84dd</td>\n",
       "      <td>4850.27</td>\n",
       "    </tr>\n",
       "    <tr>\n",
       "      <th>1</th>\n",
       "      <td>bea16033-7519-4520-a2ba-0425174d397b</td>\n",
       "      <td>4433.44</td>\n",
       "    </tr>\n",
       "    <tr>\n",
       "      <th>2</th>\n",
       "      <td>9e505eb0-e3f2-4715-a1e9-e05605022a95</td>\n",
       "      <td>4289.69</td>\n",
       "    </tr>\n",
       "    <tr>\n",
       "      <th>3</th>\n",
       "      <td>99ab1cee-2645-4ae3-8ffe-f28508666098</td>\n",
       "      <td>4261.43</td>\n",
       "    </tr>\n",
       "    <tr>\n",
       "      <th>4</th>\n",
       "      <td>fc3650a4-3f19-4047-9354-65e2a23a4a40</td>\n",
       "      <td>4260.19</td>\n",
       "    </tr>\n",
       "  </tbody>\n",
       "</table>\n",
       "</div>"
      ],
      "text/plain": [
       "                                     id  revenue\n",
       "0  f56861d3-a2b5-4ab0-b0ef-6ce2005f84dd  4850.27\n",
       "1  bea16033-7519-4520-a2ba-0425174d397b  4433.44\n",
       "2  9e505eb0-e3f2-4715-a1e9-e05605022a95  4289.69\n",
       "3  99ab1cee-2645-4ae3-8ffe-f28508666098  4261.43\n",
       "4  fc3650a4-3f19-4047-9354-65e2a23a4a40  4260.19"
      ]
     },
     "execution_count": 4,
     "metadata": {},
     "output_type": "execute_result"
    }
   ],
   "source": [
    "from google.cloud import bigquery\n",
    "from pandas import DataFrame\n",
    "\n",
    "client = bigquery.Client()\n",
    "\n",
    "sql = \"\"\"\n",
    "SELECT\n",
    "    id,\n",
    "    SUM(properties.revenue) revenue\n",
    "FROM `dito-data-scientist-challenge.tracking.dito`\n",
    "GROUP BY id\n",
    "ORDER BY SUM(properties.revenue) DESC\n",
    "LIMIT 5\n",
    "\"\"\"\n",
    "\n",
    "df = client.query(sql).to_dataframe()\n",
    "df.head()"
   ]
  },
  {
   "cell_type": "code",
   "execution_count": 5,
   "metadata": {},
   "outputs": [
    {
     "data": {
      "text/plain": [
       "['f56861d3-a2b5-4ab0-b0ef-6ce2005f84dd',\n",
       " 'bea16033-7519-4520-a2ba-0425174d397b',\n",
       " '9e505eb0-e3f2-4715-a1e9-e05605022a95',\n",
       " '99ab1cee-2645-4ae3-8ffe-f28508666098',\n",
       " 'fc3650a4-3f19-4047-9354-65e2a23a4a40']"
      ]
     },
     "execution_count": 5,
     "metadata": {},
     "output_type": "execute_result"
    }
   ],
   "source": [
    "ids = df['id'].astype(str).values.tolist()\n",
    "ids"
   ]
  },
  {
   "cell_type": "markdown",
   "metadata": {},
   "source": [
    "Na sequência, posso agora consultar o nome, email e telefone de cada um para exibir sua ordenação, passando a lista de ids retornados na primeira consulta."
   ]
  },
  {
   "cell_type": "code",
   "execution_count": 6,
   "metadata": {},
   "outputs": [],
   "source": [
    "client = bigquery.Client()\n",
    "\n",
    "sql_names = \"\"\"\n",
    "SELECT traits.name, traits.email, traits.phone\n",
    "FROM `dito-data-scientist-challenge.tracking.dito`\n",
    "WHERE type = 'identify' AND id IN UNNEST(%s)\n",
    "ORDER BY timestamp DESC\n",
    "LIMIT 5\n",
    "\"\"\" %(map(str, ids))\n",
    "\n",
    "names = client.query(sql_names).to_dataframe"
   ]
  },
  {
   "cell_type": "code",
   "execution_count": 8,
   "metadata": {},
   "outputs": [
    {
     "data": {
      "text/html": [
       "<div>\n",
       "<style scoped>\n",
       "    .dataframe tbody tr th:only-of-type {\n",
       "        vertical-align: middle;\n",
       "    }\n",
       "\n",
       "    .dataframe tbody tr th {\n",
       "        vertical-align: top;\n",
       "    }\n",
       "\n",
       "    .dataframe thead th {\n",
       "        text-align: right;\n",
       "    }\n",
       "</style>\n",
       "<table border=\"1\" class=\"dataframe\">\n",
       "  <thead>\n",
       "    <tr style=\"text-align: right;\">\n",
       "      <th></th>\n",
       "      <th>nome</th>\n",
       "      <th>email</th>\n",
       "      <th>telefone</th>\n",
       "    </tr>\n",
       "  </thead>\n",
       "  <tbody>\n",
       "    <tr>\n",
       "      <th>0</th>\n",
       "      <td>Heloísa Ordonhes</td>\n",
       "      <td>joshua_prosacco@gmail.com</td>\n",
       "      <td>(51) 91972-9639</td>\n",
       "    </tr>\n",
       "    <tr>\n",
       "      <th>1</th>\n",
       "      <td>Mirella Soares</td>\n",
       "      <td>velia.pagac@hotmail.com</td>\n",
       "      <td>(43) 97290-9288</td>\n",
       "    </tr>\n",
       "    <tr>\n",
       "      <th>2</th>\n",
       "      <td>Fernanda Resende</td>\n",
       "      <td>charlott.ledner@live.com</td>\n",
       "      <td>(33) 92311-0450</td>\n",
       "    </tr>\n",
       "    <tr>\n",
       "      <th>3</th>\n",
       "      <td>Sophie Banheira</td>\n",
       "      <td>fransisca.predovic@bol.com.br</td>\n",
       "      <td>(24) 91404-3805</td>\n",
       "    </tr>\n",
       "    <tr>\n",
       "      <th>4</th>\n",
       "      <td>Alícia Pinheira</td>\n",
       "      <td>bill@bol.com.br</td>\n",
       "      <td>(51) 91012-4779</td>\n",
       "    </tr>\n",
       "  </tbody>\n",
       "</table>\n",
       "</div>"
      ],
      "text/plain": [
       "               nome                          email         telefone\n",
       "0  Heloísa Ordonhes      joshua_prosacco@gmail.com  (51) 91972-9639\n",
       "1    Mirella Soares        velia.pagac@hotmail.com  (43) 97290-9288\n",
       "2  Fernanda Resende       charlott.ledner@live.com  (33) 92311-0450\n",
       "3   Sophie Banheira  fransisca.predovic@bol.com.br  (24) 91404-3805\n",
       "4   Alícia Pinheira                bill@bol.com.br  (51) 91012-4779"
      ]
     },
     "execution_count": 8,
     "metadata": {},
     "output_type": "execute_result"
    }
   ],
   "source": [
    "names.head()"
   ]
  },
  {
   "cell_type": "markdown",
   "metadata": {},
   "source": [
    "### 2. De quantos em quantos dias, em média, as pessoas compram? Use a mediana como média.\n"
   ]
  },
  {
   "cell_type": "markdown",
   "metadata": {},
   "source": [
    "Primeiramente é necessário buscar a data da primeira e da última compra, para então descobrir o número de dias entre ambas. Após isso, podemos usar o resultado dessa seleção para buscar o valor da mediana."
   ]
  },
  {
   "cell_type": "code",
   "execution_count": 9,
   "metadata": {},
   "outputs": [
    {
     "data": {
      "text/html": [
       "<div>\n",
       "<style scoped>\n",
       "    .dataframe tbody tr th:only-of-type {\n",
       "        vertical-align: middle;\n",
       "    }\n",
       "\n",
       "    .dataframe tbody tr th {\n",
       "        vertical-align: top;\n",
       "    }\n",
       "\n",
       "    .dataframe thead th {\n",
       "        text-align: right;\n",
       "    }\n",
       "</style>\n",
       "<table border=\"1\" class=\"dataframe\">\n",
       "  <thead>\n",
       "    <tr style=\"text-align: right;\">\n",
       "      <th></th>\n",
       "      <th>mediana</th>\n",
       "    </tr>\n",
       "  </thead>\n",
       "  <tbody>\n",
       "    <tr>\n",
       "      <th>0</th>\n",
       "      <td>1.038462</td>\n",
       "    </tr>\n",
       "  </tbody>\n",
       "</table>\n",
       "</div>"
      ],
      "text/plain": [
       "    mediana\n",
       "0  1.038462"
      ]
     },
     "execution_count": 9,
     "metadata": {},
     "output_type": "execute_result"
    }
   ],
   "source": [
    "%%bigquery\n",
    "\n",
    "WITH buy_interval AS(\n",
    "SELECT  id, DATE_DIFF(MAX(DATE(timestamp)), MIN(DATE(timestamp)), DAY)/COUNT(id) AS freq_mean\n",
    "FROM `dito-data-scientist-challenge.tracking.dito`\n",
    "WHERE type='track'\n",
    "GROUP BY id)\n",
    "\n",
    "SELECT APPROX_QUANTILES(freq_mean,1000)[OFFSET(500)] mediana\n",
    "FROM buy_interval\n",
    "LIMIT 1"
   ]
  },
  {
   "cell_type": "markdown",
   "metadata": {},
   "source": [
    "Portanto, a pessoas compram, em média, a cada 1 dia."
   ]
  }
 ],
 "metadata": {
  "kernelspec": {
   "display_name": "Python 3",
   "language": "python",
   "name": "python3"
  },
  "language_info": {
   "codemirror_mode": {
    "name": "ipython",
    "version": 3
   },
   "file_extension": ".py",
   "mimetype": "text/x-python",
   "name": "python",
   "nbconvert_exporter": "python",
   "pygments_lexer": "ipython3",
   "version": "3.6.4"
  }
 },
 "nbformat": 4,
 "nbformat_minor": 2
}
